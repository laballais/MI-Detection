{
 "cells": [
  {
   "cell_type": "markdown",
   "metadata": {},
   "source": [
    "Initialize environment and preprocess data."
   ]
  },
  {
   "cell_type": "code",
   "execution_count": 1,
   "metadata": {},
   "outputs": [],
   "source": [
    "import sys\n",
    "sys.path.append('../src')"
   ]
  },
  {
   "cell_type": "code",
   "execution_count": 2,
   "metadata": {},
   "outputs": [],
   "source": [
    "# import all libraries\n",
    "\n",
    "import os\n",
    "import shutil\n",
    "import csv\n",
    "import numpy as np\n",
    "import openpyxl\n",
    "import random\n",
    "from csv import writer\n",
    "from PIL import Image\n",
    "from skimage import io\n",
    "from midetection.Utils import echo_config\n",
    "from midetection.Utils import utilities\n",
    "from midetection.lib.siamese_net.siamese_net.config import EchoPaths\n",
    "\n",
    "\n",
    "input_path = echo_config.raw_input_path\n",
    "label_path = echo_config.raw_label_path\n",
    "renamed_input_path = echo_config.renamed_input_path\n",
    "renamed_label_path = echo_config.renamed_label_path\n",
    "echo_paths = [echo_config.trainInput_data,\n",
    "              echo_config.l_traindata,\n",
    "              echo_config.testInput_data,\n",
    "              echo_config.l_testdata,\n",
    "              echo_config.validInput_data,\n",
    "              echo_config.l_validdata]"
   ]
  },
  {
   "cell_type": "code",
   "execution_count": 3,
   "metadata": {},
   "outputs": [],
   "source": [
    "#write a csv file for the labels from the given file A4C.xlsx\n",
    "utilities.removeFile(echo_config.echo_labels)\n",
    "\n",
    "dataframe = openpyxl.load_workbook(echo_config.dataset_label)\n",
    "dataframe1 = dataframe.active\n",
    "\n",
    "num_cases = int(len(os.listdir(input_path))/2)\n",
    "for row in dataframe1.iter_rows(3, num_cases + 2):\n",
    "    label = 0\n",
    "    for col in range(0, dataframe1.max_column):\n",
    "        if row[col].value == \"MI\":\n",
    "            label = 1\n",
    "            break\n",
    "        \n",
    "    filename = str(row[0].value).split(\"ES000\", 1)[1].split(\"_\", 1)[0].split(\" \", 1)[0]\n",
    "    with open(echo_config.echo_labels,'a+') as fd:\n",
    "        writer_object = writer(fd)\n",
    "        writer_object.writerow([filename,label])\n",
    "        fd.close()"
   ]
  },
  {
   "cell_type": "code",
   "execution_count": 4,
   "metadata": {},
   "outputs": [],
   "source": [
    "# rename echo images in following format: casenum_instance.png\n",
    "# instance can be 'ed' or 'es'\n",
    "for echo_path in [input_path, label_path]:\n",
    "    echo_dir = sorted(os.listdir(echo_path))\n",
    "\n",
    "    for image in echo_dir:\n",
    "        image_path = echo_path + image # retrieve image path in a datapoint\n",
    "        image_name = os.path.splitext(image)[0].split(\"ES000\", 1)[1].split(\"_\", 1)[0].split(\" \", 1)[0]\n",
    "        image_instance = os.path.splitext(image)[0].split(\"ES000\", 1)[1].split(\"_\" or \" \", 3)[3]\n",
    "        if echo_path == input_path:\n",
    "            shutil.copy(image_path, renamed_input_path)\n",
    "            os.rename(renamed_input_path + image, renamed_input_path + image_name + \"_\" + image_instance + \".jpg\")\n",
    "        else:\n",
    "            shutil.copy(image_path, renamed_label_path)\n",
    "            os.rename(renamed_label_path + image, renamed_label_path + image_name + \"_\" + image_instance + \".jpg\")"
   ]
  },
  {
   "cell_type": "code",
   "execution_count": 5,
   "metadata": {},
   "outputs": [],
   "source": [
    "for path in echo_paths:\n",
    "    path_dir = os.listdir(path)\n",
    "    for file in path_dir:\n",
    "        try:\n",
    "            shutil.rmtree(path + file)\n",
    "        except OSError:\n",
    "            os.remove(path + file)"
   ]
  },
  {
   "cell_type": "code",
   "execution_count": 6,
   "metadata": {},
   "outputs": [],
   "source": [
    "utilities.removeFile(EchoPaths.training_csv)\n",
    "utilities.removeFile(EchoPaths.validating_csv)\n",
    "utilities.removeFile(EchoPaths.testing_csv)\n",
    "\n",
    "def get_label(case_num):\n",
    "\tlabel = 0\n",
    "\twith open(echo_config.echo_labels, mode ='r') as file: \n",
    "\t\tcsvFile = csv.reader(file)\n",
    "\t\tfor row in csvFile:\n",
    "\t\t\t\tif row[0] == case_num:\n",
    "\t\t\t\t\tlabel = row[1]\n",
    "\t\tfile.close()\n",
    "\treturn label"
   ]
  },
  {
   "cell_type": "code",
   "execution_count": 7,
   "metadata": {},
   "outputs": [
    {
     "name": "stdout",
     "output_type": "stream",
     "text": [
      "54 images for testing and 164 for training.\n"
     ]
    }
   ],
   "source": [
    "# split data into training and testing sets\n",
    "test_size = 0.25\n",
    "input_dir = sorted(os.listdir(renamed_input_path))\n",
    "label_dir = sorted(os.listdir(renamed_label_path))\n",
    "\n",
    "random.shuffle(input_dir)\n",
    "num_input = len(input_dir)\n",
    "indices = list(range(num_input))\n",
    "split = int(np.floor(test_size * num_input))\n",
    "# print(\"Split at index '%i'.\" % split)\n",
    "print(str(split) + \" images for testing and \" + str(num_input-split) + \" for training.\")\n",
    "\n",
    "# copy some into folder for testing and training\n",
    "count = 0\n",
    "for image in input_dir:\n",
    "    if (image not in os.listdir(echo_paths[0])) and (image not in os.listdir(echo_paths[2])):\n",
    "        image_name = os.path.splitext(image)[0].split(\"_\", 1)[0]\n",
    "        label = get_label(image_name)\n",
    "        if count >= split:\n",
    "            shutil.copy(renamed_input_path + image_name + \"_ed.jpg\",echo_paths[0])\n",
    "            shutil.copy(renamed_label_path + image_name + \"_ed.jpg\",echo_paths[1])\n",
    "            shutil.copy(renamed_input_path + image_name + \"_es.jpg\",echo_paths[0])\n",
    "            shutil.copy(renamed_label_path + image_name + \"_es.jpg\",echo_paths[1])\n",
    "        elif count < split:\n",
    "            shutil.copy(renamed_input_path + image_name + \"_ed.jpg\",echo_paths[2])\n",
    "            shutil.copy(renamed_label_path + image_name + \"_ed.jpg\",echo_paths[3])\n",
    "            shutil.copy(renamed_input_path + image_name + \"_es.jpg\",echo_paths[2])\n",
    "            shutil.copy(renamed_label_path + image_name + \"_es.jpg\",echo_paths[3])\n",
    "            with open(EchoPaths.testing_csv,'a+') as fd:\n",
    "                writer_object = writer(fd)\n",
    "                writer_object.writerow([image_name + \"_ed.png\",image_name + \"_es.png\",label])\n",
    "                fd.close()\n",
    "        count += 2"
   ]
  },
  {
   "cell_type": "code",
   "execution_count": 8,
   "metadata": {},
   "outputs": [
    {
     "name": "stdout",
     "output_type": "stream",
     "text": [
      "24 images for validating and 140 for training.\n"
     ]
    }
   ],
   "source": [
    "# split training data into training and validating sets\n",
    "train_dir = os.listdir(echo_paths[0])\n",
    "random.shuffle(train_dir)\n",
    "train_label_dir = sorted(os.listdir(echo_paths[1]))\n",
    "\n",
    "valid_size = 0.15\n",
    "\n",
    "num_training = len(train_dir)\n",
    "indices = list(range(num_training))\n",
    "split = int(np.floor(valid_size * num_training))\n",
    "# print(\"Split at index '%i'.\" % split)\n",
    "print(str(split) + \" images for validating and \" + str(num_training-split) + \" for training.\")\n",
    "\n",
    "# copy some into folder for validating set\n",
    "count = 0\n",
    "for image in train_dir:\n",
    "    image_name = os.path.splitext(image)[0].split(\"_\", 1)[0]\n",
    "    instance = os.path.splitext(image)[0].split(\"_\", 1)[1]\n",
    "    if image not in os.listdir(echo_paths[4]) and (instance != \"es\"):      \n",
    "        label = get_label(image_name)\n",
    "        if count < split:\n",
    "            shutil.move(echo_paths[0] + image_name + \"_ed.jpg\", echo_paths[4])\n",
    "            shutil.move(echo_paths[1] + image_name + \"_ed.jpg\", echo_paths[5])\n",
    "            shutil.move(echo_paths[0] + image_name + \"_es.jpg\", echo_paths[4])\n",
    "            shutil.move(echo_paths[1] + image_name + \"_es.jpg\", echo_paths[5])\n",
    "            with open(EchoPaths.validating_csv,'a+') as fd:\n",
    "                writer_object = writer(fd)\n",
    "                writer_object.writerow([image_name + \"_ed.png\",image_name + \"_es.png\",label])\n",
    "                fd.close()\n",
    "        elif count>= split:\n",
    "            with open(EchoPaths.training_csv,'a+') as fd:\n",
    "                writer_object = writer(fd)\n",
    "                writer_object.writerow([image_name + \"_ed.png\",image_name + \"_es.png\",label])\n",
    "                fd.close()\n",
    "        count += 2"
   ]
  },
  {
   "cell_type": "code",
   "execution_count": 9,
   "metadata": {},
   "outputs": [],
   "source": [
    "# preprocess the images - resizing and renaming\n",
    "\n",
    "for echo_path in echo_paths:\n",
    "    echo_dir = sorted(os.listdir(echo_path))\n",
    "\n",
    "    for image in echo_dir:\n",
    "        image_path = echo_path + \"/\" + image  # retrieve image path in a datapoint\n",
    "        #print(image_path)\n",
    "        Img = Image.open(image_path)\n",
    "        width,height = Img.size\n",
    "        Img = Img.resize((224,224)) # (636,422) ; resize image into (224,224)\n",
    "        Img.save(image_path)    # replace original image with resized image\n",
    "        Img.close()\n",
    "        img = io.imread(image_path)\n",
    "        #print(img.ndim)\n",
    "        save_path = echo_path + os.path.splitext(image)[0] + \".png\"\n",
    "        #io.imsave(save_path,img) # use this if no need to grayscale\n",
    "        os.rename(image_path, save_path)"
   ]
  },
  {
   "cell_type": "markdown",
   "metadata": {},
   "source": [
    "Train Segmentation Model and Evaluate"
   ]
  },
  {
   "cell_type": "code",
   "execution_count": 10,
   "metadata": {},
   "outputs": [
    {
     "name": "stdout",
     "output_type": "stream",
     "text": [
      "Successfully created the logger directory ./logger\n",
      "selected device is  cuda:0\n",
      "Setting model parameters\n",
      "Creating folders for every data\n",
      "Training ongoing...\n"
     ]
    },
    {
     "data": {
      "image/png": "[encoded data removed]",
      "text/plain": [
       "<Figure size 640x480 with 1 Axes>"
      ]
     },
     "metadata": {},
     "output_type": "display_data"
    },
    {
     "name": "stdout",
     "output_type": "stream",
     "text": [
      "Testing the model...\n",
      "Dice Score : 0.5488672180741619\n"
     ]
    }
   ],
   "source": [
    "# lr min at 1e-6, attention u-net, n1=32, added layer of e-d, and added tensorboard graph of training and validation losses\n",
    "\n",
    "from midetection.lib.UNet.pytorch_run import run_model\n",
    "\n",
    "test_data_paths = [echo_paths[2] + sorted(os.listdir(echo_paths[2]))[0], echo_paths[3] + sorted(os.listdir(echo_paths[3]))[0]]\n",
    "\n",
    "run_model(batch_size=4, epoch=25, base_paths=echo_paths + test_data_paths)"
   ]
  },
  {
   "attachments": {},
   "cell_type": "markdown",
   "metadata": {},
   "source": [
    "Quantify wall motion and myocardial thickening"
   ]
  },
  {
   "cell_type": "code",
   "execution_count": 11,
   "metadata": {},
   "outputs": [
    {
     "name": "stdout",
     "output_type": "stream",
     "text": [
      "Center and thickness of all segments acquired.\n",
      "Wall motion measured for all segments.\n",
      "Myocardial thickening measured for all segments.\n"
     ]
    }
   ],
   "source": [
    "from midetection.quantify.quantify_echo import get_centerAndThicknessOfAllSegments, measure_wallMotion, measure_myocardialThickening\n",
    "\n",
    "centers, thickness, image_index = get_centerAndThicknessOfAllSegments()\n",
    "wallMotion = measure_wallMotion(centers, image_index)\n",
    "myocardialThickening = measure_myocardialThickening(thickness, image_index)"
   ]
  },
  {
   "cell_type": "markdown",
   "metadata": {},
   "source": [
    "Train and test MI classifier"
   ]
  },
  {
   "cell_type": "code",
   "execution_count": 12,
   "metadata": {},
   "outputs": [
    {
     "name": "stderr",
     "output_type": "stream",
     "text": [
      "2024-05-12 19:39:50.615640: I tensorflow/core/util/port.cc:113] oneDNN custom operations are on. You may see slightly different numerical results due to floating-point round-off errors from different computation orders. To turn them off, set the environment variable `TF_ENABLE_ONEDNN_OPTS=0`.\n",
      "2024-05-12 19:39:51.400877: I tensorflow/core/platform/cpu_feature_guard.cc:210] This TensorFlow binary is optimized to use available CPU instructions in performance-critical operations.\n",
      "To enable the following instructions: AVX2 AVX512F AVX512_VNNI AVX512_BF16 FMA, in other operations, rebuild TensorFlow with the appropriate compiler flags.\n",
      "2024-05-12 19:39:53.002992: W tensorflow/compiler/tf2tensorrt/utils/py_utils.cc:38] TF-TRT Warning: Could not find TensorRT\n"
     ]
    },
    {
     "name": "stdout",
     "output_type": "stream",
     "text": [
      "Training the model...\n"
     ]
    },
    {
     "name": "stderr",
     "output_type": "stream",
     "text": [
      "/home/laballais/miniconda3/envs/mi-detection/lib/python3.9/site-packages/torch/nn/modules/conv.py:456: UserWarning: Plan failed with a cudnnException: CUDNN_BACKEND_EXECUTION_PLAN_DESCRIPTOR: cudnnFinalize Descriptor Failed cudnn_status: CUDNN_STATUS_NOT_SUPPORTED (Triggered internally at ../aten/src/ATen/native/cudnn/Conv_v8.cpp:919.)\n",
      "  return F.conv2d(input, weight, bias, self.stride,\n"
     ]
    },
    {
     "name": "stdout",
     "output_type": "stream",
     "text": [
      "Testing the model...\n"
     ]
    },
    {
     "data": {
      "image/png": "[encoded data removed]",
      "text/plain": [
       "<Figure size 640x480 with 2 Axes>"
      ]
     },
     "metadata": {},
     "output_type": "display_data"
    },
    {
     "name": "stdout",
     "output_type": "stream",
     "text": [
      "\n",
      "Accuracy: 74.07407407407408 %\n",
      "Sensitivity: 42.85713673469475 %\n",
      "Precision: 49.99999166666805 %\n",
      "Specificity: 84.99999575000021 %\n"
     ]
    }
   ],
   "source": [
    "# LR=1e-4 epoch=400 batch_size=2 with early stopping\n",
    "from midetection.lib.siamese_net.siamese_net.train_bce import train_model, test_model\n",
    "from midetection.lib.siamese_net.siamese_net.utils import normalize_data1\n",
    "\n",
    "wallMotion = normalize_data1(wallMotion)\n",
    "myocardialThickening = normalize_data1(myocardialThickening)\n",
    "\n",
    "model, recall, prec, loss, validLoss, counter = train_model(wallMotion, myocardialThickening, data=\"echo\")\n",
    "accuracy, sensitivity, precision, specificity, prediction, groundtruth = test_model(wallMotion, myocardialThickening, data=\"echo\", net = model)"
   ]
  }
 ],
 "metadata": {
  "kernelspec": {
   "display_name": "base",
   "language": "python",
   "name": "python3"
  },
  "language_info": {
   "codemirror_mode": {
    "name": "ipython",
    "version": 3
   },
   "file_extension": ".py",
   "mimetype": "text/x-python",
   "name": "python",
   "nbconvert_exporter": "python",
   "pygments_lexer": "ipython3",
   "version": "3.9.18"
  },
  "orig_nbformat": 4
 },
 "nbformat": 4,
 "nbformat_minor": 2
}
